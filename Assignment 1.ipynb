{
 "cells": [
  {
   "cell_type": "markdown",
   "id": "91dbbab0-4822-4335-84ae-b3f6fe273602",
   "metadata": {},
   "source": [
    "#Q1. Create one variable containing following type of data:\n",
    "#(i) string\n",
    "#(ii) list\n",
    "#(iii) float\n",
    "#(iv) tuple"
   ]
  },
  {
   "cell_type": "code",
   "execution_count": 2,
   "id": "e6eea3c4-e3af-47b8-9373-ab054fbb54c3",
   "metadata": {},
   "outputs": [],
   "source": [
    "string='Papri Sarkar'\n",
    "list=[1,2,3,'Papri',True,100.0]\n",
    "float=20.5\n",
    "tuple=('Set',1,4.6)"
   ]
  },
  {
   "cell_type": "markdown",
   "id": "e254bfa8-f84f-4957-8496-f5b949fb372b",
   "metadata": {},
   "source": [
    "#Q2. Given are some following variables containing data:\n",
    "#(i) var1 = ‘ ‘\n",
    "#(ii) var2 = ‘[ DS , ML , Python]’\n",
    "#(iii) var3 = [ ‘DS’ , ’ML’ , ‘Python’ ]\n",
    "#(iv) var4 = 1.\n",
    "#What will be the data type of above given variables."
   ]
  },
  {
   "cell_type": "code",
   "execution_count": 3,
   "id": "0164bd41-18ff-4089-aa88-ceded2c11992",
   "metadata": {},
   "outputs": [],
   "source": [
    "#(i)String\n",
    "#(ii)string\n",
    "#(iii)list\n",
    "#(iv)Integer"
   ]
  },
  {
   "cell_type": "markdown",
   "id": "88196575-05a4-445c-8edd-47a26420b3df",
   "metadata": {},
   "source": [
    "#Q3. Explain the use of the following operators using an example:\n",
    "#(i) /\n",
    "#(ii) %\n",
    "#(iii) //\n",
    "#(iv) **"
   ]
  },
  {
   "cell_type": "code",
   "execution_count": 4,
   "id": "d8fad150-ea6c-47d1-8686-d00a8233b14b",
   "metadata": {},
   "outputs": [],
   "source": [
    "#(i) it divides 2 no.s\n",
    "#(ii) it returns remainder\n",
    "#(iii) it returns qutient from a division.\n",
    "#(iv) it returns reuslts of exponential power of a number"
   ]
  },
  {
   "cell_type": "markdown",
   "id": "97c29635-e7c3-474e-bd7c-f76bc0c73f99",
   "metadata": {},
   "source": [
    "#Q4. Create a list of length 10 of your choice containing multiple types of data. Using for loop print the\n",
    "#element and its data type."
   ]
  },
  {
   "cell_type": "code",
   "execution_count": 5,
   "id": "1d79c967-5ed2-416a-a439-01f7046c2627",
   "metadata": {},
   "outputs": [
    {
     "name": "stdout",
     "output_type": "stream",
     "text": [
      "1 - <class 'int'>\n",
      "3.4 - <class 'float'>\n",
      "True - <class 'str'>\n",
      "Papri - <class 'str'>\n",
      "7 - <class 'int'>\n",
      "True - <class 'bool'>\n",
      "23 - <class 'int'>\n",
      "9.8 - <class 'float'>\n",
      "10 - <class 'int'>\n",
      "2 - <class 'int'>\n"
     ]
    }
   ],
   "source": [
    "list=[1,3.4,'True','Papri',7,True,23,9.8,10,2]\n",
    "for i in list:\n",
    "    print(i,\"-\",type(i))"
   ]
  },
  {
   "cell_type": "markdown",
   "id": "3c507768-8f5a-4445-8cb3-5e5d12ff3446",
   "metadata": {},
   "source": [
    "#Q5. Using a while loop, verify if the number A is purely divisible by number B and if so then how many\n",
    "#times it can be divisible."
   ]
  },
  {
   "cell_type": "code",
   "execution_count": 6,
   "id": "b09e6a23-bd3f-49e9-94f3-81143c641330",
   "metadata": {},
   "outputs": [
    {
     "name": "stdin",
     "output_type": "stream",
     "text": [
      "enter the no A:- 200\n",
      "enter the no. B:- 4\n"
     ]
    },
    {
     "name": "stdout",
     "output_type": "stream",
     "text": [
      "200 is purely divisible by 4\n",
      "3 times it can be divisible\n"
     ]
    }
   ],
   "source": [
    "A=int(input(\"enter the no A:-\"))\n",
    "B=int(input(\"enter the no. B:-\"))\n",
    "t=0\n",
    "r=A%B\n",
    "if r==0:\n",
    "    print(A,\"is purely divisible by\",B)\n",
    "    while A>B:\n",
    "        d = A // B\n",
    "        t += 1\n",
    "        A = d\n",
    "print(t,\"times it can be divisible\")"
   ]
  },
  {
   "cell_type": "markdown",
   "id": "11e45a85-3771-4fc0-ac33-6f00d43a5825",
   "metadata": {},
   "source": [
    "#Q6. Create a list containing 25 int type data. Using for loop and if-else condition print if the element is\n",
    "#divisible by 3 or not.\n"
   ]
  },
  {
   "cell_type": "code",
   "execution_count": 7,
   "id": "70874dd0-7534-43a9-ad30-10b11e139f44",
   "metadata": {},
   "outputs": [
    {
     "name": "stdout",
     "output_type": "stream",
     "text": [
      "1 is not divisible by 3\n",
      "2 is not divisible by 3\n",
      "3 is divisible by 3\n",
      "4 is not divisible by 3\n",
      "5 is not divisible by 3\n",
      "6 is divisible by 3\n",
      "7 is not divisible by 3\n",
      "8 is not divisible by 3\n",
      "9 is divisible by 3\n",
      "10 is not divisible by 3\n",
      "11 is not divisible by 3\n",
      "12 is divisible by 3\n",
      "13 is not divisible by 3\n",
      "14 is not divisible by 3\n",
      "15 is divisible by 3\n",
      "16 is not divisible by 3\n",
      "17 is not divisible by 3\n",
      "18 is divisible by 3\n",
      "19 is not divisible by 3\n",
      "20 is not divisible by 3\n",
      "21 is divisible by 3\n",
      "22 is not divisible by 3\n",
      "23 is not divisible by 3\n",
      "24 is divisible by 3\n",
      "25 is not divisible by 3\n"
     ]
    }
   ],
   "source": [
    "list=[1,2,3,4,5,6,7,8,9,10,11,12,13,14,15,16,17,18,19,20,21,22,23,24,25]\n",
    "for i in list:\n",
    "    if i%3==0:\n",
    "        print(i,\"is divisible by 3\")\n",
    "    else:\n",
    "        print(i,\"is not divisible by 3\")"
   ]
  },
  {
   "cell_type": "markdown",
   "id": "c063f2de-bc5c-4444-8d54-8b8992563546",
   "metadata": {},
   "source": [
    "#Q7. What do you understand about mutable and immutable data types? Give examples for both showing\n",
    "#this property."
   ]
  },
  {
   "cell_type": "code",
   "execution_count": 8,
   "id": "af5054f9-c90c-4577-be9c-52b8f0633e41",
   "metadata": {},
   "outputs": [],
   "source": [
    "# Mutable data types are those where elements can be changed for particular indexes.Ex-List.\n",
    "# In the other hand Immutable data types are those where elements can't be changed for particular indexes.Ex-String."
   ]
  }
 ],
 "metadata": {
  "kernelspec": {
   "display_name": "Python 3 (ipykernel)",
   "language": "python",
   "name": "python3"
  },
  "language_info": {
   "codemirror_mode": {
    "name": "ipython",
    "version": 3
   },
   "file_extension": ".py",
   "mimetype": "text/x-python",
   "name": "python",
   "nbconvert_exporter": "python",
   "pygments_lexer": "ipython3",
   "version": "3.10.8"
  }
 },
 "nbformat": 4,
 "nbformat_minor": 5
}
